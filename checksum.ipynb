{
  "nbformat": 4,
  "nbformat_minor": 0,
  "metadata": {
    "colab": {
      "provenance": []
    },
    "kernelspec": {
      "name": "python3",
      "display_name": "Python 3"
    },
    "language_info": {
      "name": "python"
    }
  },
  "cells": [
    {
      "cell_type": "code",
      "source": [
        "from google.colab import drive\n",
        "drive.mount('/content/drive')"
      ],
      "metadata": {
        "colab": {
          "base_uri": "https://localhost:8080/"
        },
        "id": "Itwak4qU2I1W",
        "outputId": "3ba9b087-96b7-4724-9b22-96319900c1a2"
      },
      "execution_count": null,
      "outputs": [
        {
          "output_type": "stream",
          "name": "stdout",
          "text": [
            "Mounted at /content/drive\n"
          ]
        }
      ]
    },
    {
      "cell_type": "code",
      "execution_count": null,
      "metadata": {
        "colab": {
          "base_uri": "https://localhost:8080/"
        },
        "id": "vrRKPaJA1thJ",
        "outputId": "c73bc856-abde-4a7a-c149-ccf76c849c4a"
      },
      "outputs": [
        {
          "output_type": "stream",
          "name": "stdout",
          "text": [
            "Folder checksum: 8c3208a9ba075ccc7b8e11e83651a13c1c7fe1a68f26cb7d434473ec3c1fa637\n"
          ]
        }
      ],
      "source": [
        "import hashlib\n",
        "import os\n",
        "\n",
        "def calculate_checksum_for_folder(folder_path, algorithm='sha256'):\n",
        "    hash_func = hashlib.new(algorithm)\n",
        "    for root, dirs, files in os.walk(folder_path):\n",
        "        for file in sorted(files):\n",
        "            file_path = os.path.join(root, file)\n",
        "            with open(file_path, 'rb') as f:\n",
        "                while chunk := f.read(8192):\n",
        "                    hash_func.update(chunk)\n",
        "\n",
        "    return hash_func.hexdigest()\n",
        "\n",
        "\n",
        "folder_path = '/content/drive/MyDrive/Speech_LE1/mydata'\n",
        "folder_checksum = calculate_checksum_for_folder(folder_path, algorithm='sha256')\n",
        "print('Folder checksum:', folder_checksum)\n"
      ]
    },
    {
      "cell_type": "code",
      "source": [],
      "metadata": {
        "id": "4iB6Obch1yw2"
      },
      "execution_count": null,
      "outputs": []
    }
  ]
}